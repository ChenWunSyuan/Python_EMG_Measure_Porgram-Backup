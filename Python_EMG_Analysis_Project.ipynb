{
 "cells": [
  {
   "cell_type": "code",
   "execution_count": null,
   "id": "b6c7be7d-1d21-4170-9d84-45b1da041bea",
   "metadata": {},
   "outputs": [],
   "source": [
    "#設定Jupyter與Matplotlib交互方法"
   ]
  },
  {
   "cell_type": "code",
   "execution_count": null,
   "id": "4960645c-3482-48e9-a773-63ac9fc515f5",
   "metadata": {},
   "outputs": [],
   "source": [
    "%matplotlib inline"
   ]
  },
  {
   "cell_type": "code",
   "execution_count": null,
   "id": "9cf609ba-643d-4bc4-8cc5-f8de9819e6a5",
   "metadata": {},
   "outputs": [],
   "source": [
    "#字串處理"
   ]
  },
  {
   "cell_type": "code",
   "execution_count": null,
   "id": "b8f30d1a-36d6-40c4-ac65-679776d067fc",
   "metadata": {},
   "outputs": [],
   "source": [
    "import pandas as pd"
   ]
  },
  {
   "cell_type": "code",
   "execution_count": null,
   "id": "48ab6a50-0339-4813-a311-6a80d8ff14b8",
   "metadata": {},
   "outputs": [],
   "source": [
    "def CSV_To_TXT(File_Path, Save_Path):\n",
    "    Data = pd.read_csv(File_Path, header=None)\n",
    "    Processed_Data = list(Data.iloc[:, 4])    #取出CSV檔案中的第五行並轉換成List\n",
    "    with open(Save_Path, 'w') as Output: \n",
    "        Output.write((', '.join(map(str,Processed_Data))).replace(',', '\\n').replace(' ', ''))   #將list去掉 \"[]\" 和空格，並將 \",\" 改成換行"
   ]
  },
  {
   "cell_type": "code",
   "execution_count": null,
   "id": "fc84597a-f008-471d-8f28-112a7eb14c6e",
   "metadata": {},
   "outputs": [],
   "source": [
    "CSV_To_TXT(\"/home/chenwunsyuan/Documents/Python_EMG_Analysis_Project/Raw_Data/CSV/三頭肌持續出力.csv\", \"/home/chenwunsyuan/Documents/Python_EMG_Analysis_Project/Raw_Data/TXT/三頭肌持續出力.txt\")\n",
    "CSV_To_TXT(\"/home/chenwunsyuan/Documents/Python_EMG_Analysis_Project/Raw_Data/CSV/二頭肌持續出力.csv\", \"/home/chenwunsyuan/Documents/Python_EMG_Analysis_Project/Raw_Data/TXT/二頭肌持續出力.txt\")\n",
    "CSV_To_TXT(\"/home/chenwunsyuan/Documents/Python_EMG_Analysis_Project/Raw_Data/CSV/三頭肌最大出力.csv\", \"/home/chenwunsyuan/Documents/Python_EMG_Analysis_Project/Raw_Data/TXT/三頭肌最大出力.txt\")\n",
    "CSV_To_TXT(\"/home/chenwunsyuan/Documents/Python_EMG_Analysis_Project/Raw_Data/CSV/二頭肌最大出力.csv\", \"/home/chenwunsyuan/Documents/Python_EMG_Analysis_Project/Raw_Data/TXT/二頭肌最大出力.txt\")\n",
    "CSV_To_TXT(\"/home/chenwunsyuan/Documents/Python_EMG_Analysis_Project/Raw_Data/CSV/股二頭肌持續出力.csv\", \"/home/chenwunsyuan/Documents/Python_EMG_Analysis_Project/Raw_Data/TXT/股二頭肌持續出力.txt\")\n",
    "CSV_To_TXT(\"/home/chenwunsyuan/Documents/Python_EMG_Analysis_Project/Raw_Data/CSV/股二頭肌最大出力.csv\", \"/home/chenwunsyuan/Documents/Python_EMG_Analysis_Project/Raw_Data/TXT/股二頭肌最大出力.txt\")\n",
    "CSV_To_TXT(\"/home/chenwunsyuan/Documents/Python_EMG_Analysis_Project/Raw_Data/CSV/股內側肌持續出力.csv\", \"/home/chenwunsyuan/Documents/Python_EMG_Analysis_Project/Raw_Data/TXT/股內側肌持續出力.txt\")\n",
    "CSV_To_TXT(\"/home/chenwunsyuan/Documents/Python_EMG_Analysis_Project/Raw_Data/CSV/股內側肌最大出力.csv\", \"/home/chenwunsyuan/Documents/Python_EMG_Analysis_Project/Raw_Data/TXT/股內側肌最大出力.txt\")\n",
    "CSV_To_TXT(\"/home/chenwunsyuan/Documents/Python_EMG_Analysis_Project/Raw_Data/CSV/股外側肌持續出力.csv\", \"/home/chenwunsyuan/Documents/Python_EMG_Analysis_Project/Raw_Data/TXT/股外側肌持續出力.txt\")\n",
    "CSV_To_TXT(\"/home/chenwunsyuan/Documents/Python_EMG_Analysis_Project/Raw_Data/CSV/股外側肌最大出力.csv\", \"/home/chenwunsyuan/Documents/Python_EMG_Analysis_Project/Raw_Data/TXT/股外側肌最大出力.txt\")"
   ]
  },
  {
   "cell_type": "code",
   "execution_count": null,
   "id": "9ba76461-292f-4369-83d7-74354c6a9645",
   "metadata": {},
   "outputs": [],
   "source": [
    "#數據分析"
   ]
  },
  {
   "cell_type": "code",
   "execution_count": null,
   "id": "90723a25-f8a6-4823-b1aa-d76822861d23",
   "metadata": {},
   "outputs": [],
   "source": [
    "import math\n",
    "import numpy as np\n",
    "import scipy as sp\n",
    "import matplotlib.pyplot as plt\n",
    "import biosppy"
   ]
  },
  {
   "cell_type": "code",
   "execution_count": null,
   "id": "a2da7a47-83fc-4691-9074-9eee0dfc2381",
   "metadata": {},
   "outputs": [],
   "source": [
    "#每次選取特定區間來計算RMS值"
   ]
  },
  {
   "cell_type": "code",
   "execution_count": null,
   "id": "01f44271-860d-4e74-a35b-2814b6b0a6ed",
   "metadata": {},
   "outputs": [],
   "source": [
    "def RMS_Plot(Input_Time, Input_Data, RMS_Sampling_Size):    #RMS_Plot(NumPy一維陣列, NumPy一維陣列, 數字)\n",
    "    RMS_Array = np.zeros(0)    #建立空的一為陣列\n",
    "    i = 0\n",
    "    while i <= len(Input_Data):    #\n",
    "        Temp1 = 0    #設定初始值\n",
    "        Average_RMS = 0    #設定初始值\n",
    "        for j in range(RMS_Sampling_Size):\n",
    "            try:\n",
    "                Temp1 += Input_Data[j + i] ** 2    #計算平方和\n",
    "            except:\n",
    "                j = j - 1    #\n",
    "                break\n",
    "        Average_RMS = math.sqrt(Temp1 / RMS_Sampling_Size) \n",
    "        RMS_Array = np.hstack((RMS_Array, np.full(j + 1, Average_RMS)))\n",
    "        i += RMS_Sampling_Size\n",
    "    \n",
    "    plt.figure(figsize=(15,10))\n",
    "    plt.plot(Input_Time, Input_Data, label='Filtered')\n",
    "    plt.plot(Input_Time, RMS_Array, label='RMS')\n",
    "    plt.legend()\n",
    "    plt.title(\"EMG Summary With RMS\")\n",
    "    plt.xlabel(\"Time (s)\")\n",
    "    plt.ylabel(\"Amplitude\")\n",
    "    plt.show()"
   ]
  },
  {
   "cell_type": "code",
   "execution_count": null,
   "id": "da7a3e8b-0acc-43ed-bfda-74b06cf3c050",
   "metadata": {},
   "outputs": [],
   "source": [
    "def IEMG_Plot(Input_Time, Input_Data):\n",
    "    IEMG_Array = np.zeros(0)\n",
    "    for n in range(len(Input_Data)):\n",
    "        try:\n",
    "            Integrate_Result = sp.integrate.simps(np.abs(Input_Data[:n + 1]), Input_Time[:n + 1])\n",
    "            IEMG_Array = np.hstack((IEMG_Array, np.full(1, Integrate_Result)))\n",
    "        except:\n",
    "            continue\n",
    "    \n",
    "    plt.figure(figsize=(15,10))\n",
    "    plt.plot(Input_Time, Input_Data, label='Filtered')\n",
    "    plt.plot(Input_Time, IEMG_Array, label='IEMG')\n",
    "    plt.legend()\n",
    "    plt.title(\"EMG Summary With IEMG\")\n",
    "    plt.xlabel(\"Time (s)\")\n",
    "    plt.ylabel(\"Amplitude\")\n",
    "    plt.show()\n",
    "    #print(IEMS_Array)   "
   ]
  },
  {
   "cell_type": "code",
   "execution_count": null,
   "id": "cd6a3f71-eab9-4977-bdc4-d0919ee0e468",
   "metadata": {},
   "outputs": [],
   "source": [
    "def Plot_MPF(Input_Data, Sampling_Frequency):\n",
    "    f, Pxx_den = sp.signal.welch(Input_Data, Sampling_Frequency)\n",
    "    #f, Pxx_den = sp.signal.welch(Input_Data, Sampling_Frequency, nperseg=1024)\n",
    "    \n",
    "    plt.figure(figsize=(15,10))\n",
    "    plt.semilogy(f, Pxx_den, label = 'MPF')\n",
    "    plt.legend()\n",
    "    plt.ylim([0.5e-3, 1])\n",
    "    plt.xlabel('frequency [Hz]')\n",
    "    plt.ylabel('MPF [V**2/Hz]')\n",
    "    plt.show()"
   ]
  },
  {
   "cell_type": "code",
   "execution_count": null,
   "id": "ca75c412-4177-4374-b890-4e5855d4fcb6",
   "metadata": {},
   "outputs": [],
   "source": [
    "#三頭肌持續出力分析"
   ]
  },
  {
   "cell_type": "code",
   "execution_count": null,
   "id": "adbd6e00-30b0-49b2-80a7-c0c6cc22694e",
   "metadata": {},
   "outputs": [],
   "source": [
    "Signal1 = np.loadtxt('/home/chenwunsyuan/Documents/Python_EMG_Analysis_Project/Raw_Data/TXT/三頭肌持續出力.txt')\n",
    "Processed_Signal1 = biosppy.signals.emg.emg(signal=Signal1, sampling_rate=250, show=True)"
   ]
  },
  {
   "cell_type": "code",
   "execution_count": null,
   "id": "31567265-1293-454d-8e8f-0cec709d4ece",
   "metadata": {},
   "outputs": [],
   "source": [
    "RMS_Plot(Processed_Signal1[0], Processed_Signal1[1], 15)"
   ]
  },
  {
   "cell_type": "code",
   "execution_count": null,
   "id": "7d2d89a9-b11e-44d1-b0bf-bf67cdaa258a",
   "metadata": {},
   "outputs": [],
   "source": [
    "IEMG_Plot(Processed_Signal1[0], Processed_Signal1[1])"
   ]
  },
  {
   "cell_type": "code",
   "execution_count": null,
   "id": "abfa3f11-0c42-4953-8ce2-a3a96f528bcc",
   "metadata": {},
   "outputs": [],
   "source": [
    "Plot_MPF(Processed_Signal1[1], 250)"
   ]
  },
  {
   "cell_type": "code",
   "execution_count": null,
   "id": "c3b12eea-aa75-4a90-bd74-94ed970cb6c3",
   "metadata": {},
   "outputs": [],
   "source": [
    "#三頭肌最大出力分析"
   ]
  },
  {
   "cell_type": "code",
   "execution_count": null,
   "id": "25b8cff7-f866-4c02-9828-c2b43b88115f",
   "metadata": {},
   "outputs": [],
   "source": [
    "Signal2 = np.loadtxt('/home/chenwunsyuan/Documents/Python_EMG_Analysis_Project/Raw_Data/TXT/三頭肌最大出力.txt')\n",
    "Processed_Signal2 = biosppy.signals.emg.emg(signal=Signal2, sampling_rate=250, show=True)"
   ]
  },
  {
   "cell_type": "code",
   "execution_count": null,
   "id": "62466224-0073-447f-a97e-ae39a13aaae5",
   "metadata": {},
   "outputs": [],
   "source": [
    "RMS_Plot(Processed_Signal2[0], Processed_Signal2[1], 15)"
   ]
  },
  {
   "cell_type": "code",
   "execution_count": null,
   "id": "3b5db5a7-ad8e-4844-a6bd-179c6cf1537b",
   "metadata": {},
   "outputs": [],
   "source": [
    "IEMG_Plot(Processed_Signal2[0], Processed_Signal2[1])"
   ]
  },
  {
   "cell_type": "code",
   "execution_count": null,
   "id": "a6189ab4-7b6f-4eee-83db-15fdb80450d8",
   "metadata": {},
   "outputs": [],
   "source": [
    "Plot_MPF(Processed_Signal2[1], 250)"
   ]
  },
  {
   "cell_type": "code",
   "execution_count": null,
   "id": "a396d338-0c38-4f19-a71c-000eb16fe75f",
   "metadata": {},
   "outputs": [],
   "source": [
    "#二頭肌持續出力分析"
   ]
  },
  {
   "cell_type": "code",
   "execution_count": null,
   "id": "fd19cb22-76f8-41c1-8cf4-c5e7e0d4d9c5",
   "metadata": {},
   "outputs": [],
   "source": [
    "Signal3 = np.loadtxt('/home/chenwunsyuan/Documents/Python_EMG_Analysis_Project/Raw_Data/TXT/二頭肌持續出力.txt')\n",
    "Processed_Signal3 = biosppy.signals.emg.emg(signal=Signal3, sampling_rate=250, show=True)"
   ]
  },
  {
   "cell_type": "code",
   "execution_count": null,
   "id": "f6af6db3-1599-4888-acd7-e5d1d71dd018",
   "metadata": {},
   "outputs": [],
   "source": [
    "RMS_Plot(Processed_Signal3[0], Processed_Signal3[1], 15)"
   ]
  },
  {
   "cell_type": "code",
   "execution_count": null,
   "id": "9cbf3f74-36a5-48e5-bc43-757bf7dbdf56",
   "metadata": {},
   "outputs": [],
   "source": [
    "IEMG_Plot(Processed_Signal3[0], Processed_Signal3[1])"
   ]
  },
  {
   "cell_type": "code",
   "execution_count": null,
   "id": "da0da080-56f8-4edf-83b7-f84279e6a577",
   "metadata": {},
   "outputs": [],
   "source": [
    "Plot_MPF(Processed_Signal3[1], 250)"
   ]
  },
  {
   "cell_type": "code",
   "execution_count": null,
   "id": "08b75139-0805-43c5-ab25-46666325e9cf",
   "metadata": {},
   "outputs": [],
   "source": [
    "#二頭肌最大出力分析"
   ]
  },
  {
   "cell_type": "code",
   "execution_count": null,
   "id": "80a95658-b2da-4b9f-9f6e-e079eb4de01e",
   "metadata": {},
   "outputs": [],
   "source": [
    "Signal4 = np.loadtxt('/home/chenwunsyuan/Documents/Python_EMG_Analysis_Project/Raw_Data/TXT/二頭肌最大出力.txt')\n",
    "Processed_Signal4 = biosppy.signals.emg.emg(signal=Signal4, sampling_rate=250, show=True)"
   ]
  },
  {
   "cell_type": "code",
   "execution_count": null,
   "id": "6bfb91e9-2c82-4e1c-9421-3157b6cb183c",
   "metadata": {},
   "outputs": [],
   "source": [
    "RMS_Plot(Processed_Signal4[0], Processed_Signal4[1], 15)"
   ]
  },
  {
   "cell_type": "code",
   "execution_count": null,
   "id": "f6c85361-8d4a-4e1d-ba52-d5b8ae5748e8",
   "metadata": {},
   "outputs": [],
   "source": [
    "IEMG_Plot(Processed_Signal4[0], Processed_Signal4[1])"
   ]
  },
  {
   "cell_type": "code",
   "execution_count": null,
   "id": "58027489-7721-4203-92a5-d4d40d511b76",
   "metadata": {},
   "outputs": [],
   "source": [
    "Plot_MPF(Processed_Signal4[1], 250)"
   ]
  },
  {
   "cell_type": "code",
   "execution_count": null,
   "id": "fc9ce92a-5a2f-4f52-97d8-057aded9343d",
   "metadata": {},
   "outputs": [],
   "source": [
    "#股二頭肌持續出力分析"
   ]
  },
  {
   "cell_type": "code",
   "execution_count": null,
   "id": "a6be2a1b-d8f2-45a8-8601-61cf53a2336a",
   "metadata": {},
   "outputs": [],
   "source": [
    "Signal5 = np.loadtxt('/home/chenwunsyuan/Documents/Python_EMG_Analysis_Project/Raw_Data/TXT/股二頭肌持續出力.txt')\n",
    "Processed_Signal5 = biosppy.signals.emg.emg(signal=Signal5, sampling_rate=250, show=True)"
   ]
  },
  {
   "cell_type": "code",
   "execution_count": null,
   "id": "c78da626-d30d-4aef-8420-0c04a1ce33da",
   "metadata": {},
   "outputs": [],
   "source": [
    "RMS_Plot(Processed_Signal5[0], Processed_Signal5[1], 15)"
   ]
  },
  {
   "cell_type": "code",
   "execution_count": null,
   "id": "4fbc52d9-bd52-4f5d-a751-eb672fbb2d54",
   "metadata": {},
   "outputs": [],
   "source": [
    "IEMG_Plot(Processed_Signal5[0], Processed_Signal5[1])"
   ]
  },
  {
   "cell_type": "code",
   "execution_count": null,
   "id": "a192f4f6-d115-4532-9666-7497f2d2c6e5",
   "metadata": {},
   "outputs": [],
   "source": [
    "Plot_MPF(Processed_Signal5[1], 250)"
   ]
  },
  {
   "cell_type": "code",
   "execution_count": null,
   "id": "775d0743-164c-40af-9edc-28ad2f9fa11d",
   "metadata": {},
   "outputs": [],
   "source": [
    "#股二頭肌最大出力分析"
   ]
  },
  {
   "cell_type": "code",
   "execution_count": null,
   "id": "366adc34-d8e4-402a-93cf-f80f6f15ee03",
   "metadata": {},
   "outputs": [],
   "source": [
    "Signal6 = np.loadtxt('/home/chenwunsyuan/Documents/Python_EMG_Analysis_Project/Raw_Data/TXT/股二頭肌最大出力.txt')\n",
    "Processed_Signal6 = biosppy.signals.emg.emg(signal=Signal6, sampling_rate=250, show=True)"
   ]
  },
  {
   "cell_type": "code",
   "execution_count": null,
   "id": "c070f1d2-b50b-4d67-9f8f-d6cd5a01f30e",
   "metadata": {},
   "outputs": [],
   "source": [
    "RMS_Plot(Processed_Signal6[0], Processed_Signal6[1], 15)"
   ]
  },
  {
   "cell_type": "code",
   "execution_count": null,
   "id": "a6457da4-05d9-4785-9229-feb5887d7afd",
   "metadata": {},
   "outputs": [],
   "source": [
    "IEMG_Plot(Processed_Signal6[0], Processed_Signal6[1])"
   ]
  },
  {
   "cell_type": "code",
   "execution_count": null,
   "id": "6dec4433-dd37-4023-9189-c830e156acdb",
   "metadata": {},
   "outputs": [],
   "source": [
    "Plot_MPF(Processed_Signal6[1], 250)"
   ]
  },
  {
   "cell_type": "code",
   "execution_count": null,
   "id": "de8c1a6f-0f43-4b0f-8be7-f17250f55eca",
   "metadata": {},
   "outputs": [],
   "source": [
    "#股內側肌持續出力分析"
   ]
  },
  {
   "cell_type": "code",
   "execution_count": null,
   "id": "a4af43cb-5c9a-4fc4-ae4d-04e584ad2878",
   "metadata": {},
   "outputs": [],
   "source": [
    "Signal7 = np.loadtxt('/home/chenwunsyuan/Documents/Python_EMG_Analysis_Project/Raw_Data/TXT/股內側肌持續出力.txt')\n",
    "Processed_Signal7 = biosppy.signals.emg.emg(signal=Signal7, sampling_rate=250, show=True)"
   ]
  },
  {
   "cell_type": "code",
   "execution_count": null,
   "id": "abdf29f9-533d-4960-a29c-91a105981abf",
   "metadata": {},
   "outputs": [],
   "source": [
    "RMS_Plot(Processed_Signal7[0], Processed_Signal7[1], 15)"
   ]
  },
  {
   "cell_type": "code",
   "execution_count": null,
   "id": "7fd821e1-e822-4a56-936c-e315ef6dcf7d",
   "metadata": {},
   "outputs": [],
   "source": [
    "IEMG_Plot(Processed_Signal7[0], Processed_Signal7[1])"
   ]
  },
  {
   "cell_type": "code",
   "execution_count": null,
   "id": "710e8e6f-897e-49ba-9613-131d6c14240f",
   "metadata": {},
   "outputs": [],
   "source": [
    "Plot_MPF(Processed_Signal7[1], 250)"
   ]
  },
  {
   "cell_type": "code",
   "execution_count": null,
   "id": "a049ab70-19c8-4155-87ca-4913b90f6395",
   "metadata": {},
   "outputs": [],
   "source": [
    "#股內側肌最大出力分析"
   ]
  },
  {
   "cell_type": "code",
   "execution_count": null,
   "id": "99986e86-f0d1-4042-8c2a-61b915f92cd9",
   "metadata": {},
   "outputs": [],
   "source": [
    "Signal8 = np.loadtxt('/home/chenwunsyuan/Documents/Python_EMG_Analysis_Project/Raw_Data/TXT/股內側肌最大出力.txt')\n",
    "Processed_Signal8 = biosppy.signals.emg.emg(signal=Signal8, sampling_rate=250, show=True)"
   ]
  },
  {
   "cell_type": "code",
   "execution_count": null,
   "id": "9eed6934-e250-4644-8a3a-1f762596a821",
   "metadata": {},
   "outputs": [],
   "source": [
    "RMS_Plot(Processed_Signal8[0], Processed_Signal8[1], 15)"
   ]
  },
  {
   "cell_type": "code",
   "execution_count": null,
   "id": "3c8e9dfe-750a-4d8e-908a-03c4ea7be1c9",
   "metadata": {},
   "outputs": [],
   "source": [
    "IEMG_Plot(Processed_Signal8[0], Processed_Signal8[1])"
   ]
  },
  {
   "cell_type": "code",
   "execution_count": null,
   "id": "8f05e479-2f65-4ccd-bbe0-eb686a7528ff",
   "metadata": {},
   "outputs": [],
   "source": [
    "Plot_MPF(Processed_Signal8[1], 250)"
   ]
  },
  {
   "cell_type": "code",
   "execution_count": null,
   "id": "4e1e82c5-62ec-47fc-88c9-5a66d5dec96f",
   "metadata": {},
   "outputs": [],
   "source": [
    "#股外側肌持續出力分析"
   ]
  },
  {
   "cell_type": "code",
   "execution_count": null,
   "id": "01c3f795-aaad-4958-b2c7-43291752ebd3",
   "metadata": {},
   "outputs": [],
   "source": [
    "Signal9 = np.loadtxt('/home/chenwunsyuan/Documents/Python_EMG_Analysis_Project/Raw_Data/TXT/股外側肌持續出力.txt')\n",
    "Processed_Signal9 = biosppy.signals.emg.emg(signal=Signal9, sampling_rate=250, show=True)"
   ]
  },
  {
   "cell_type": "code",
   "execution_count": null,
   "id": "2df05d8f-5ce5-4e71-82c1-9abd5d7e9e2b",
   "metadata": {},
   "outputs": [],
   "source": [
    "RMS_Plot(Processed_Signal9[0], Processed_Signal9[1], 15)"
   ]
  },
  {
   "cell_type": "code",
   "execution_count": null,
   "id": "fbe3c179-3fa9-4918-a1a2-1faa228da7ae",
   "metadata": {},
   "outputs": [],
   "source": [
    "IEMG_Plot(Processed_Signal9[0], Processed_Signal9[1])"
   ]
  },
  {
   "cell_type": "code",
   "execution_count": null,
   "id": "13b429bf-673e-4722-8f2b-17fafe462783",
   "metadata": {},
   "outputs": [],
   "source": [
    "Plot_MPF(Processed_Signal9[1], 250)"
   ]
  },
  {
   "cell_type": "code",
   "execution_count": null,
   "id": "56324d24-09ff-42b3-b89f-7ec920c8104e",
   "metadata": {},
   "outputs": [],
   "source": [
    "#股外側肌最大出力分析"
   ]
  },
  {
   "cell_type": "code",
   "execution_count": null,
   "id": "26f4e47e-cbfa-4867-9883-0dc5b573f210",
   "metadata": {},
   "outputs": [],
   "source": [
    "Signal10 = np.loadtxt('/home/chenwunsyuan/Documents/Python_EMG_Analysis_Project/Raw_Data/TXT/股外側肌最大出力.txt')\n",
    "Processed_Signal10 = biosppy.signals.emg.emg(signal=Signal10, sampling_rate=250, show=True)"
   ]
  },
  {
   "cell_type": "code",
   "execution_count": null,
   "id": "8aad8a02-76d6-4256-b26f-9ab7152e4856",
   "metadata": {},
   "outputs": [],
   "source": [
    "RMS_Plot(Processed_Signal10[0], Processed_Signal10[1], 15)"
   ]
  },
  {
   "cell_type": "code",
   "execution_count": null,
   "id": "e83ddf3f-4d2e-4082-8440-2a75c4feb84f",
   "metadata": {},
   "outputs": [],
   "source": [
    "IEMG_Plot(Processed_Signal10[0], Processed_Signal10[1])"
   ]
  },
  {
   "cell_type": "code",
   "execution_count": null,
   "id": "4d174f01-9bde-4015-94dd-b850431116e6",
   "metadata": {},
   "outputs": [],
   "source": [
    "Plot_MPF(Processed_Signal10[1], 250)"
   ]
  }
 ],
 "metadata": {
  "kernelspec": {
   "display_name": "Python 3",
   "language": "python",
   "name": "python3"
  },
  "language_info": {
   "codemirror_mode": {
    "name": "ipython",
    "version": 3
   },
   "file_extension": ".py",
   "mimetype": "text/x-python",
   "name": "python",
   "nbconvert_exporter": "python",
   "pygments_lexer": "ipython3",
   "version": "3.9.4"
  }
 },
 "nbformat": 4,
 "nbformat_minor": 5
}
